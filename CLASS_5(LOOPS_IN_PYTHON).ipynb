{
  "nbformat": 4,
  "nbformat_minor": 0,
  "metadata": {
    "colab": {
      "provenance": [],
      "include_colab_link": true
    },
    "kernelspec": {
      "name": "python3",
      "display_name": "Python 3"
    },
    "language_info": {
      "name": "python"
    }
  },
  "cells": [
    {
      "cell_type": "markdown",
      "metadata": {
        "id": "view-in-github",
        "colab_type": "text"
      },
      "source": [
        "<a href=\"https://colab.research.google.com/github/SobanAliAwan/DATA-SCIENCE-COURSE-SMIT/blob/main/CLASS_5(LOOPS_IN_PYTHON).ipynb\" target=\"_parent\"><img src=\"https://colab.research.google.com/assets/colab-badge.svg\" alt=\"Open In Colab\"/></a>"
      ]
    },
    {
      "cell_type": "markdown",
      "source": [
        "### Restaurent Order Booking System"
      ],
      "metadata": {
        "id": "Fe7YG3EKvwFZ"
      }
    },
    {
      "cell_type": "code",
      "execution_count": null,
      "metadata": {
        "id": "MTEcujL_vp_S"
      },
      "outputs": [],
      "source": [
        "def restaurent_order_booking_system():\n",
        "    print(\"Welcome to Restaurent Order Booking System\")\n",
        "    print(\"Select from one of the Options\\n1.Starter\\n2.Main Course\\n3.Desert\")\n",
        "    first_input = input(\"Select one of the menu\")\n",
        "    if first_input == \"1\":\n",
        "        print(\"Starter Menu Items\")\n",
        "        print(\"1.Fish\\n2.Fries\")\n",
        "        second_input = input(\"Select one of the items in the menu\")\n",
        "        if second_input == \"1\":\n",
        "            print(\"You have selected Fish\")\n",
        "        elif second_input == \"2\":\n",
        "            print(\"You have selected Fries\")\n",
        "        else:\n",
        "            print(\"Invalid Input\")\n",
        "    elif first_input==\"2\":\n",
        "        print(\"Main Course Menu Items\")\n",
        "        print(\"1.Pizza\\n2.Pasta\")\n",
        "        second_input = input(\"Select one of the items in the menu\")\n",
        "        if second_input == \"1\":\n",
        "            print(\"You have selected Pizza\")\n",
        "        elif second_input == \"2\":\n",
        "            print(\"You have selected Pasta\")\n",
        "    elif first_input==\"3\":\n",
        "        print(\"Desert Menu Items\")\n",
        "        print(\"1.Ice Cream\\n2.Cake\")\n",
        "        second_input = input(\"Select one of the items in the menu\")\n",
        "        if second_input == \"1\":\n",
        "            print(\"You have selected Ice Cream\")\n",
        "        elif second_input == \"2\":\n",
        "            print(\"You have selected Cake\")\n",
        "\n",
        "    else:\n",
        "        print(\"Invalid Input\")\n"
      ]
    },
    {
      "cell_type": "code",
      "source": [
        "restaurent_order_booking_system()"
      ],
      "metadata": {
        "colab": {
          "base_uri": "https://localhost:8080/"
        },
        "id": "LmD6BfDFxSPp",
        "outputId": "91e4b730-724f-414f-d007-4d1481febfba"
      },
      "execution_count": null,
      "outputs": [
        {
          "output_type": "stream",
          "name": "stdout",
          "text": [
            "Welcome to Restaurent Order Booking System\n",
            "Select from one of the Options\n",
            "1.Starter\n",
            "2.Main Course\n",
            "3.Desert\n",
            "Select one of the menu3\n",
            "Desert Menu Items\n",
            "1.Ice Cream\n",
            "2.Cake\n",
            "Select one of the items in the menu1\n",
            "You have selected Ice Cream\n"
          ]
        }
      ]
    },
    {
      "cell_type": "markdown",
      "source": [
        "### Loops"
      ],
      "metadata": {
        "id": "ADsSW1DUxnI2"
      }
    },
    {
      "cell_type": "code",
      "source": [
        "vegetables = [\"Tomatoes\", \"Potato\", \"Onions\", \"Carrots\", \"Cabbage\"]"
      ],
      "metadata": {
        "id": "5vD2c9jpxmsr"
      },
      "execution_count": null,
      "outputs": []
    },
    {
      "cell_type": "code",
      "source": [
        "vegetables.reverse()\n",
        "for i in vegetables:\n",
        "  print(i)"
      ],
      "metadata": {
        "colab": {
          "base_uri": "https://localhost:8080/"
        },
        "id": "Hw22YdSgyrhS",
        "outputId": "dd6c7cad-f99d-41e7-be74-ad50caf5f36c"
      },
      "execution_count": null,
      "outputs": [
        {
          "output_type": "stream",
          "name": "stdout",
          "text": [
            "Cabbage\n",
            "Carrots\n",
            "Onions\n",
            "Potato\n",
            "Tomatoes\n"
          ]
        }
      ]
    },
    {
      "cell_type": "code",
      "source": [
        "my_str = \"My Name is Khan\""
      ],
      "metadata": {
        "id": "dvnh8b6-y4vP"
      },
      "execution_count": null,
      "outputs": []
    },
    {
      "cell_type": "code",
      "source": [
        "for ind in my_str:\n",
        "  print(ind)"
      ],
      "metadata": {
        "colab": {
          "base_uri": "https://localhost:8080/"
        },
        "id": "V9MRj3XUy9yf",
        "outputId": "f1a2c017-30e7-4faa-ec78-335d989821c0"
      },
      "execution_count": null,
      "outputs": [
        {
          "output_type": "stream",
          "name": "stdout",
          "text": [
            "M\n",
            "y\n",
            " \n",
            "N\n",
            "a\n",
            "m\n",
            "e\n",
            " \n",
            "i\n",
            "s\n",
            " \n",
            "K\n",
            "h\n",
            "a\n",
            "n\n"
          ]
        }
      ]
    },
    {
      "cell_type": "markdown",
      "source": [
        "[0 1 2 3 4]"
      ],
      "metadata": {
        "id": "IzxZ03xH0MIr"
      }
    },
    {
      "cell_type": "code",
      "source": [
        "for i in range(len(vegetables)-1,-1,-1):\n",
        "  print(vegetables[i])"
      ],
      "metadata": {
        "colab": {
          "base_uri": "https://localhost:8080/"
        },
        "id": "kDUBBIv1zDzn",
        "outputId": "af79e082-6dd3-401b-8c59-a6f4daf5b027"
      },
      "execution_count": null,
      "outputs": [
        {
          "output_type": "stream",
          "name": "stdout",
          "text": [
            "Tomatoes\n",
            "Potato\n",
            "Onions\n",
            "Carrots\n",
            "Cabbage\n"
          ]
        }
      ]
    },
    {
      "cell_type": "code",
      "source": [
        "my_set = {0,1,2,3,4,5,6}\n",
        "\n"
      ],
      "metadata": {
        "id": "G_JGi3Kkzuta"
      },
      "execution_count": null,
      "outputs": []
    },
    {
      "cell_type": "code",
      "source": [
        "for i in my_set:\n",
        "  print(i)"
      ],
      "metadata": {
        "colab": {
          "base_uri": "https://localhost:8080/"
        },
        "id": "9ZwfETpV0q9V",
        "outputId": "19c304d6-53e5-4176-a960-48f9004b8bb8"
      },
      "execution_count": null,
      "outputs": [
        {
          "output_type": "stream",
          "name": "stdout",
          "text": [
            "0\n",
            "1\n",
            "2\n",
            "3\n",
            "4\n",
            "5\n",
            "6\n"
          ]
        }
      ]
    },
    {
      "cell_type": "code",
      "source": [
        "students_info = [\n",
        "    {\"name\": \"Ali Khan\", \"class\": 6},\n",
        "    {\"name\": \"Jawad Khan\", \"class\": 8},\n",
        "    {\"name\": \"Jalal Khan\", \"class\": 9},\n",
        "\n",
        "]"
      ],
      "metadata": {
        "id": "P2REj3Js0zfl"
      },
      "execution_count": null,
      "outputs": []
    },
    {
      "cell_type": "code",
      "source": [
        "for item in students_info:\n",
        "  print(item.items())"
      ],
      "metadata": {
        "colab": {
          "base_uri": "https://localhost:8080/"
        },
        "id": "MAiGP1000-Ok",
        "outputId": "90b7d430-a39b-41ee-e473-f9224c195976"
      },
      "execution_count": null,
      "outputs": [
        {
          "output_type": "stream",
          "name": "stdout",
          "text": [
            "dict_items([('name', 'Ali Khan'), ('class', 6)])\n",
            "dict_items([('name', 'Jawad Khan'), ('class', 8)])\n",
            "dict_items([('name', 'Jalal Khan'), ('class', 9)])\n"
          ]
        }
      ]
    },
    {
      "cell_type": "code",
      "source": [
        "even_numbers = [0, 2, 4, 6, 8, 9, 10, 12]"
      ],
      "metadata": {
        "id": "ZXI-D8ch1MGd"
      },
      "execution_count": null,
      "outputs": []
    },
    {
      "cell_type": "code",
      "source": [
        "for number in even_numbers:\n",
        "  if number % 2 == 0:\n",
        "    print(number)\n",
        "  else:\n",
        "    print(\"Odd Number\")\n",
        "    break"
      ],
      "metadata": {
        "colab": {
          "base_uri": "https://localhost:8080/"
        },
        "id": "3TK9Kej11wsj",
        "outputId": "a4e5a6b4-4870-49ef-fb37-e1c8df4381bd"
      },
      "execution_count": null,
      "outputs": [
        {
          "output_type": "stream",
          "name": "stdout",
          "text": [
            "0\n",
            "2\n",
            "4\n",
            "6\n",
            "8\n",
            "Odd Number\n"
          ]
        }
      ]
    },
    {
      "cell_type": "code",
      "source": [
        "start = 0\n",
        "end = 10\n",
        "for k in range(start, end, 2):\n",
        "  print(k)\n",
        "print(start, end)"
      ],
      "metadata": {
        "colab": {
          "base_uri": "https://localhost:8080/"
        },
        "id": "YLsfvS7G186v",
        "outputId": "13cda19c-09d1-4d5d-bb3d-e2a6d5cdb80e"
      },
      "execution_count": null,
      "outputs": [
        {
          "output_type": "stream",
          "name": "stdout",
          "text": [
            "0\n",
            "2\n",
            "4\n",
            "6\n",
            "8\n",
            "0 10\n"
          ]
        }
      ]
    },
    {
      "cell_type": "code",
      "source": [
        "for number in even_numbers:\n",
        "  if number % 2 == 0:\n",
        "    temp =number+2\n",
        "\n",
        "  else:\n",
        "    print(\"Odd Number\")\n",
        "\n",
        "  print(temp)"
      ],
      "metadata": {
        "colab": {
          "base_uri": "https://localhost:8080/"
        },
        "id": "XTjwobsk2GVh",
        "outputId": "86e89633-4db6-482f-df8a-81f40e8ee22c"
      },
      "execution_count": null,
      "outputs": [
        {
          "output_type": "stream",
          "name": "stdout",
          "text": [
            "2\n",
            "4\n",
            "6\n",
            "8\n",
            "10\n",
            "Odd Number\n",
            "10\n",
            "12\n",
            "14\n"
          ]
        }
      ]
    },
    {
      "cell_type": "code",
      "source": [
        "product_ids = [1122, 804, 5559, 103, 119,5690]"
      ],
      "metadata": {
        "id": "4E9ClleE-JUk"
      },
      "execution_count": null,
      "outputs": []
    },
    {
      "cell_type": "code",
      "source": [
        "for index, product in enumerate(product_ids):\n",
        "  if product==103:\n",
        "    print(f\"Product Found at index {index}\")\n",
        "    break"
      ],
      "metadata": {
        "colab": {
          "base_uri": "https://localhost:8080/"
        },
        "id": "8fKrr6aI-QP8",
        "outputId": "a41e9598-b781-40ea-e732-f16873c61f4f"
      },
      "execution_count": null,
      "outputs": [
        {
          "output_type": "stream",
          "name": "stdout",
          "text": [
            "Product Found at index 3\n"
          ]
        }
      ]
    },
    {
      "cell_type": "code",
      "source": [
        "index = 0\n",
        "\n",
        "while product_ids[index] != 103:\n",
        "  print(\"Searching Currently Product Id: \", product_ids[index])\n",
        "\n",
        "  index+=1\n"
      ],
      "metadata": {
        "colab": {
          "base_uri": "https://localhost:8080/"
        },
        "id": "MIc-H78p_DOF",
        "outputId": "88ce288a-f7ab-468e-fc23-41142868dc07"
      },
      "execution_count": null,
      "outputs": [
        {
          "output_type": "stream",
          "name": "stdout",
          "text": [
            "Searching Currently Product Id:  1122\n",
            "Searching Currently Product Id:  804\n",
            "Searching Currently Product Id:  5559\n"
          ]
        }
      ]
    },
    {
      "cell_type": "code",
      "source": [],
      "metadata": {
        "id": "FpKl26gQAJdl"
      },
      "execution_count": null,
      "outputs": []
    },
    {
      "cell_type": "code",
      "source": [],
      "metadata": {
        "id": "dSVdyllCAOam"
      },
      "execution_count": null,
      "outputs": []
    }
  ]
}