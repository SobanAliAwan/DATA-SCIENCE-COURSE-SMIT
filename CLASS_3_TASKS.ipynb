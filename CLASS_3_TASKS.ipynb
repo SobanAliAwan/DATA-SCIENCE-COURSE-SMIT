{
  "nbformat": 4,
  "nbformat_minor": 0,
  "metadata": {
    "colab": {
      "provenance": [],
      "authorship_tag": "ABX9TyOBSbpervQ/9y/z/dIwOqe9",
      "include_colab_link": true
    },
    "kernelspec": {
      "name": "python3",
      "display_name": "Python 3"
    },
    "language_info": {
      "name": "python"
    }
  },
  "cells": [
    {
      "cell_type": "markdown",
      "metadata": {
        "id": "view-in-github",
        "colab_type": "text"
      },
      "source": [
        "<a href=\"https://colab.research.google.com/github/SobanAliAwan/DATA-SCIENCE-COURSE-SMIT/blob/main/CLASS_3_TASKS.ipynb\" target=\"_parent\"><img src=\"https://colab.research.google.com/assets/colab-badge.svg\" alt=\"Open In Colab\"/></a>"
      ]
    },
    {
      "cell_type": "markdown",
      "source": [
        "### Write a function check_even(num) that returns \"Even\" if the number is even, otherwise \"Odd\"."
      ],
      "metadata": {
        "id": "RIMh6GgRXxZR"
      }
    },
    {
      "cell_type": "code",
      "execution_count": 3,
      "metadata": {
        "colab": {
          "base_uri": "https://localhost:8080/"
        },
        "id": "bxbZ6WyTXsOy",
        "outputId": "68bc3dee-8bad-4bba-c72b-14bf925a0b53"
      },
      "outputs": [
        {
          "output_type": "stream",
          "name": "stdout",
          "text": [
            "The number 10 is Even\n",
            "The number  11 is Odd\n"
          ]
        }
      ],
      "source": [
        "def check_even(num):\n",
        "  if num % 2 == 0:\n",
        "    return print('The number',num,\"is Even\")\n",
        "  else:\n",
        "    return print('The number ',num,\"is Odd\")\n",
        "\n",
        "check_even(10)\n",
        "check_even(11)"
      ]
    },
    {
      "cell_type": "markdown",
      "source": [
        "### Write a function find_max(a, b) that returns the largest of two numbers."
      ],
      "metadata": {
        "id": "usQVN6AgYovc"
      }
    },
    {
      "cell_type": "code",
      "source": [
        "def find_max(a, b):\n",
        "    if a > b:\n",
        "        return print(a, \"is the largest number and\", b, \"is the smallest number\")\n",
        "    elif a < b:\n",
        "        return print(b, \"is the largest number and\", a, \"is the smallest number\")\n",
        "    else:\n",
        "        return print(\"The numbers are equal\")\n",
        "\n",
        "# Test cases\n",
        "find_max(10, 11)\n",
        "find_max(50, 100)\n",
        "find_max(-5, -10)\n"
      ],
      "metadata": {
        "colab": {
          "base_uri": "https://localhost:8080/"
        },
        "id": "R6y1Bxf3YqQO",
        "outputId": "64c187c4-80c5-41c5-9aa0-302052ca5a3d"
      },
      "execution_count": 13,
      "outputs": [
        {
          "output_type": "stream",
          "name": "stdout",
          "text": [
            "11 is the largest number and 10 is the smallest number\n",
            "100 is the largest number and 50 is the smallest number\n",
            "-5 is the largest number and -10 is the smallest number\n"
          ]
        }
      ]
    },
    {
      "cell_type": "markdown",
      "source": [
        "### Write a function square(num) that returns the square of a number."
      ],
      "metadata": {
        "id": "gob5xXVHaxnL"
      }
    },
    {
      "cell_type": "code",
      "source": [
        "def square(num):\n",
        "  return print(\"The square of\",num,\"is\",num**2)\n",
        "\n",
        "square(5)\n"
      ],
      "metadata": {
        "colab": {
          "base_uri": "https://localhost:8080/"
        },
        "id": "v-tqy-tGay8J",
        "outputId": "80aaa91b-8f9a-4416-dbfd-5c8056b4f2a4"
      },
      "execution_count": 15,
      "outputs": [
        {
          "output_type": "stream",
          "name": "stdout",
          "text": [
            "The square of 5 is 25\n"
          ]
        }
      ]
    }
  ]
}