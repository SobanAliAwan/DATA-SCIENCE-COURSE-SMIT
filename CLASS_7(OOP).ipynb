{
  "nbformat": 4,
  "nbformat_minor": 0,
  "metadata": {
    "colab": {
      "provenance": [],
      "authorship_tag": "ABX9TyOQs4g3I5/pytQuhKX/F6JK",
      "include_colab_link": true
    },
    "kernelspec": {
      "name": "python3",
      "display_name": "Python 3"
    },
    "language_info": {
      "name": "python"
    }
  },
  "cells": [
    {
      "cell_type": "markdown",
      "metadata": {
        "id": "view-in-github",
        "colab_type": "text"
      },
      "source": [
        "<a href=\"https://colab.research.google.com/github/SobanAliAwan/DATA-SCIENCE-COURSE-SMIT/blob/main/CLASS_7(OOP).ipynb\" target=\"_parent\"><img src=\"https://colab.research.google.com/assets/colab-badge.svg\" alt=\"Open In Colab\"/></a>"
      ]
    },
    {
      "cell_type": "code",
      "execution_count": 9,
      "metadata": {
        "colab": {
          "base_uri": "https://localhost:8080/"
        },
        "id": "u_JDPpOwj77i",
        "outputId": "7e63549c-88ce-4d4a-adbc-525cb10e2196"
      },
      "outputs": [
        {
          "output_type": "stream",
          "name": "stdout",
          "text": [
            "name: Soban Ali Awan\n",
            "age: 21\n",
            "rollno: 101\n",
            "adress: Kohat Road, Kohat\n",
            "section: A\n",
            "department: Computer Science\n",
            "name: Soban Ali Awan\n",
            "age: 21\n",
            "rollno: 102\n",
            "adress: Kohat Road, Kohat\n",
            "section: A\n",
            "department: Computer Science\n"
          ]
        }
      ],
      "source": [
        "class student:\n",
        "\n",
        "  def __init__(self, name, age, rollno, adress, section, department):\n",
        "    self.name = name\n",
        "    self.age = age\n",
        "    self.rollno = rollno\n",
        "    self.adress = adress\n",
        "    self.section = section\n",
        "    self.department = department\n",
        "\n",
        "  def display(self):\n",
        "    print('name:', self.name)\n",
        "    print('age:', self.age)\n",
        "    print('rollno:', self.rollno)\n",
        "    print('adress:', self.adress)\n",
        "    print('section:', self.section)\n",
        "    print('department:', self.department)\n",
        "\n",
        "  def update(self,rollno):\n",
        "    self.rollno = rollno\n",
        "\n",
        "\n",
        "# creating an object of class\n",
        "s1 = student('Soban Ali Awan', 21, 101, 'Kohat Road, Kohat', 'A', 'Computer Science')\n",
        "\n",
        "# call the method on object\n",
        "s1.display()\n",
        "\n",
        "s1.update(102)\n",
        "s1.display()\n",
        "\n",
        "\n"
      ]
    },
    {
      "cell_type": "markdown",
      "source": [],
      "metadata": {
        "id": "bVkK0R_jq7Fx"
      }
    },
    {
      "cell_type": "code",
      "source": [
        "class Teacher:\n",
        "  def __init__(self, name, age, salary,Teacher_id,courses):\n",
        "    self.name = name\n",
        "    self.age = age\n",
        "    self.__salary = salary\n",
        "    self.Teacher_id = Teacher_id\n",
        "    self.courses = courses\n",
        "\n",
        "  def courses_offered(self):\n",
        "    self.courses = ['Math', 'Science', 'English']\n",
        "    return self.courses\n",
        "\n",
        "  def display(self):\n",
        "    print('name:', self.name)\n",
        "    print('age:', self.age)\n",
        "    print('salary:', self.__salary)\n",
        "    print('Teacher_id:', self.Teacher_id)\n",
        "    print('courses:', self.courses)\n",
        "\n",
        "  def update(self,salary,courses):\n",
        "    self.__salary = salary\n",
        "    self.courses = courses\n",
        "\n",
        "T1 = Teacher('Soban',21,50000,24221,['Math','Science'])\n",
        "T1.display()\n",
        "T1.update(60000,['Math','Science','English'])\n",
        "T1.display()"
      ],
      "metadata": {
        "colab": {
          "base_uri": "https://localhost:8080/"
        },
        "id": "pvuPuWUGq_Qg",
        "outputId": "62d57666-7d3b-4451-ee44-8f3d054f6584"
      },
      "execution_count": 10,
      "outputs": [
        {
          "output_type": "stream",
          "name": "stdout",
          "text": [
            "name: Soban\n",
            "age: 21\n",
            "salary: 50000\n",
            "Teacher_id: 24221\n",
            "courses: ['Math', 'Science']\n",
            "name: Soban\n",
            "age: 21\n",
            "salary: 60000\n",
            "Teacher_id: 24221\n",
            "courses: ['Math', 'Science', 'English']\n"
          ]
        }
      ]
    },
    {
      "cell_type": "code",
      "source": [
        "class Teacher:\n",
        "  def __init__(self, name, age, salary, Teacher_id, courses):\n",
        "    self.name = name\n",
        "    self.age = age\n",
        "    self.__salary = salary   # private variable\n",
        "    self.Teacher_id = Teacher_id\n",
        "    self.courses = courses\n",
        "\n",
        "  def courses_offered(self):\n",
        "    return self.courses\n",
        "\n",
        "  def display(self):\n",
        "    print('name:', self.name)\n",
        "    print('age:', self.age)\n",
        "    print('salary:', self.__salary)\n",
        "    print('Teacher_id:', self.Teacher_id)\n",
        "    print('courses:', self.courses)\n",
        "\n",
        "  def update(self, salary, courses):\n",
        "    self.__salary = salary\n",
        "    self.courses.append(courses)\n",
        "\n",
        "  def remove(self,courses):\n",
        "    self.courses.remove(courses)\n",
        "\n",
        "  def replace(self,courses):\n",
        "    self.courses = courses\n",
        "\n",
        "\n",
        "# testing\n",
        "T1 = Teacher('Soban', 21, 50000, 24221, ['Math', 'Science'])\n",
        "T1.display()\n",
        "\n",
        "print(\"Courses offered:\", T1.courses_offered())  # shows current courses\n",
        "\n",
        "T1.update(60000, 'English')  # update salary and add\n",
        "T1.display()\n",
        "\n",
        "T1.remove('English')\n",
        "T1.display()\n",
        "\n",
        "T1.replace(['Math', 'Science', 'English'])\n",
        "T1.display()\n"
      ],
      "metadata": {
        "colab": {
          "base_uri": "https://localhost:8080/"
        },
        "id": "zi4V72Tds2T4",
        "outputId": "c5e47cb7-9c81-4523-c560-36b7c8383bc9"
      },
      "execution_count": 14,
      "outputs": [
        {
          "output_type": "stream",
          "name": "stdout",
          "text": [
            "name: Soban\n",
            "age: 21\n",
            "salary: 50000\n",
            "Teacher_id: 24221\n",
            "courses: ['Math', 'Science']\n",
            "Courses offered: ['Math', 'Science']\n",
            "name: Soban\n",
            "age: 21\n",
            "salary: 60000\n",
            "Teacher_id: 24221\n",
            "courses: ['Math', 'Science', 'English']\n",
            "name: Soban\n",
            "age: 21\n",
            "salary: 60000\n",
            "Teacher_id: 24221\n",
            "courses: ['Math', 'Science']\n",
            "name: Soban\n",
            "age: 21\n",
            "salary: 60000\n",
            "Teacher_id: 24221\n",
            "courses: ['Math', 'Science', 'English']\n"
          ]
        }
      ]
    },
    {
      "cell_type": "code",
      "source": [
        "class Book:\n",
        "    def __init__(self, title, author, pages, price):\n",
        "        self.title = title\n",
        "        self.author = author\n",
        "        self.pages = pages\n",
        "        self.price = price\n",
        "\n",
        "    def display_info(self):\n",
        "        print(f\"\\nTitle: {self.title}\")\n",
        "        print(f\"Author: {self.author}\")\n",
        "        print(f\"Pages: {self.pages}\")\n",
        "        print(f\"Price: ${self.price}\")\n",
        "\n",
        "books = []\n",
        "for i in range(3):\n",
        "    print(f\"\\nEnter details for Book {i+1}:\")\n",
        "    title = input(\"Enter the title of the book: \")\n",
        "    author = input(\"Enter the author of the book: \")\n",
        "    pages = int(input(\"Enter the number of pages in the book: \"))\n",
        "    price = float(input(\"Enter the price of the book: \"))\n",
        "\n",
        "    book = Book(title, author, pages, price)\n",
        "    books.append(book)\n",
        "\n",
        "print(\"\\n--- User Entered Books ---\")\n",
        "for b in books:\n",
        "    b.display_info()\n",
        "\n",
        "\n"
      ],
      "metadata": {
        "colab": {
          "base_uri": "https://localhost:8080/"
        },
        "id": "9y4d1qA_w-hi",
        "outputId": "61c1f342-4f5c-4ed6-d35e-75c4fdb12689"
      },
      "execution_count": 18,
      "outputs": [
        {
          "output_type": "stream",
          "name": "stdout",
          "text": [
            "\n",
            "Enter details for Book 1:\n",
            "Enter the title of the book: A walk in clouds \n",
            "Enter the author of the book: Francine Rivers \n",
            "Enter the number of pages in the book: 500 \n",
            "Enter the price of the book: 1500\n",
            "\n",
            "Enter details for Book 2:\n",
            "Enter the title of the book: The art of seduction \n",
            "Enter the author of the book: Robert Green \n",
            "Enter the number of pages in the book: 800 \n",
            "Enter the price of the book: 2000\n",
            "\n",
            "Enter details for Book 3:\n",
            "Enter the title of the book: Power \n",
            "Enter the author of the book: Robert Green \n",
            "Enter the number of pages in the book: 500 \n",
            "Enter the price of the book: 2000\n",
            "\n",
            "--- User Entered Books ---\n",
            "\n",
            "Title: A walk in clouds \n",
            "Author: Francine Rivers \n",
            "Pages: 500\n",
            "Price: $1500.0\n",
            "\n",
            "Title: The art of seduction \n",
            "Author: Robert Green \n",
            "Pages: 800\n",
            "Price: $2000.0\n",
            "\n",
            "Title: Power \n",
            "Author: Robert Green \n",
            "Pages: 500\n",
            "Price: $2000.0\n"
          ]
        }
      ]
    }
  ]
}