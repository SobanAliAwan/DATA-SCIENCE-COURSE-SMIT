{
  "nbformat": 4,
  "nbformat_minor": 0,
  "metadata": {
    "colab": {
      "provenance": [],
      "authorship_tag": "ABX9TyNs+FX7MwLzbt22rf6/4VT2",
      "include_colab_link": true
    },
    "kernelspec": {
      "name": "python3",
      "display_name": "Python 3"
    },
    "language_info": {
      "name": "python"
    }
  },
  "cells": [
    {
      "cell_type": "markdown",
      "metadata": {
        "id": "view-in-github",
        "colab_type": "text"
      },
      "source": [
        "<a href=\"https://colab.research.google.com/github/SobanAliAwan/DATA-SCIENCE-COURSE-SMIT/blob/main/CLASS_4_TASKS.ipynb\" target=\"_parent\"><img src=\"https://colab.research.google.com/assets/colab-badge.svg\" alt=\"Open In Colab\"/></a>"
      ]
    },
    {
      "cell_type": "markdown",
      "source": [
        "### 1. The program should display a menu with options: Starter, Main Course, and\n",
        "Dessert.\n",
        "2. The user should be able to choose one of these options.\n",
        "3. If the chosen option is unavailable, the program should notify the user.\n",
        "4. If user selects starter, following options should be given Fries, Sandwitch\n",
        "5. If the user selects Main Course, they should be given the option to choose a\n",
        "side (Biryani, Karai).\n",
        "6. If the user selects Dessert, they should be given the option to choose a\n",
        "topping (Kheer, Mithai)."
      ],
      "metadata": {
        "id": "3OFQHpnoZyZW"
      }
    },
    {
      "cell_type": "code",
      "execution_count": 1,
      "metadata": {
        "colab": {
          "base_uri": "https://localhost:8080/"
        },
        "id": "BHPmWJmlZkIK",
        "outputId": "6819f1b9-249f-47ac-ff67-6df50afc1d48"
      },
      "outputs": [
        {
          "output_type": "stream",
          "name": "stdout",
          "text": [
            "----- Menu -----\n",
            "1. Starter\n",
            "2. Exit\n",
            "Enter your choice: 1\n",
            "----- Starter -----\n",
            "1. Fries\n",
            "2. Sandwich\n",
            "3. Salad\n",
            "4. Soup\n",
            "5. Pizza\n",
            "Enter your choice for starter: 4\n",
            "You have selected Soup for starter.\n",
            "----- Main Course -----\n",
            "1. Biryani\n",
            "2. Karahi\n",
            "3. Chicken\n",
            "4. Beef\n",
            "5. Fish\n",
            "Enter your choice for main course: 2\n",
            "You have selected Karahi for main course.\n",
            "----- Dessert -----\n",
            "1. Kheer\n",
            "2. Mithai\n",
            "3. Ice Cream\n",
            "4. Pudding\n",
            "5. Cake\n",
            "Enter your choice for dessert: 1\n",
            "You have selected Kheer for dessert.\n",
            "Thank you for your order. Enjoy your meal!\n"
          ]
        }
      ],
      "source": [
        "def restaurant_menu():\n",
        "    print('----- Menu -----')\n",
        "    print('1. Starter')\n",
        "    print('2. Exit')\n",
        "    choice = int(input('Enter your choice: '))\n",
        "    if choice == 1:\n",
        "        starter()\n",
        "    elif choice == 2:\n",
        "        print('Thank you for visiting us.')\n",
        "        exit()\n",
        "    else:\n",
        "        print('Invalid choice. Please choose among given options.')\n",
        "        restaurant_menu()\n",
        "\n",
        "def starter():\n",
        "    print('----- Starter -----')\n",
        "    print('1. Fries')\n",
        "    print('2. Sandwich')\n",
        "    print('3. Salad')\n",
        "    print('4. Soup')\n",
        "    print('5. Pizza')\n",
        "\n",
        "    choice = int(input('Enter your choice for starter: '))\n",
        "    items = {\n",
        "        1: \"Fries\", 2: \"Sandwich\", 3: \"Salad\", 4: \"Soup\", 5: \"Pizza\"\n",
        "    }\n",
        "    if choice in items:\n",
        "        print(f\"You have selected {items[choice]} for starter.\")\n",
        "        main_course()\n",
        "    else:\n",
        "        print('Invalid choice. Please choose among given options.')\n",
        "        starter()\n",
        "\n",
        "def main_course():\n",
        "    print('----- Main Course -----')\n",
        "    print('1. Biryani')\n",
        "    print('2. Karahi')\n",
        "    print('3. Chicken')\n",
        "    print('4. Beef')\n",
        "    print('5. Fish')\n",
        "\n",
        "    choice = int(input('Enter your choice for main course: '))\n",
        "    items = {\n",
        "        1: \"Biryani\", 2: \"Karahi\", 3: \"Chicken\", 4: \"Beef\", 5: \"Fish\"\n",
        "    }\n",
        "    if choice in items:\n",
        "        print(f\"You have selected {items[choice]} for main course.\")\n",
        "        dessert()\n",
        "    else:\n",
        "        print('Invalid choice. Please choose among given options.')\n",
        "        main_course()\n",
        "\n",
        "def dessert():\n",
        "    print('----- Dessert -----')\n",
        "    print('1. Kheer')\n",
        "    print('2. Mithai')\n",
        "    print('3. Ice Cream')\n",
        "    print('4. Pudding')\n",
        "    print('5. Cake')\n",
        "\n",
        "    choice = int(input('Enter your choice for dessert: '))\n",
        "    items = {\n",
        "        1: \"Kheer\", 2: \"Mithai\", 3: \"Ice Cream\", 4: \"Pudding\", 5: \"Cake\"\n",
        "    }\n",
        "    if choice in items:\n",
        "        print(f\"You have selected {items[choice]} for dessert.\")\n",
        "        print('Thank you for your order. Enjoy your meal!')\n",
        "        exit()\n",
        "    else:\n",
        "        print('Invalid choice. Please choose among given options.')\n",
        "        dessert()\n",
        "\n",
        "# Start the program\n",
        "restaurant_menu()\n"
      ]
    },
    {
      "cell_type": "markdown",
      "source": [
        "### 5. Create a simple ATM withdrawal program that checks the user's balance and allows them to\n",
        "withdraw money if they have enough funds.\n",
        "\n",
        "Assume the user has 5000 PKR in their bank account.\n",
        "Ask the user for a withdrawal amount.\n",
        "Use nested if/else to check:\n",
        "If the amount is greater than balance, print \"Insufficient funds\"\n",
        "If the amount is less than or equal to balance, allow withdrawal and print new balance\n",
        "If the amount is not a multiple of 500, print \"Enter an amount in multiples of 500\"\n",
        "Ensure the balance updates after a successful withdrawal."
      ],
      "metadata": {
        "id": "2P0jXoL9h0Zq"
      }
    },
    {
      "cell_type": "code",
      "source": [
        "money = 5000\n",
        "\n",
        "def withdrawal():\n",
        "    global money\n",
        "    while True:\n",
        "        print(f\"\\nCurrent Balance: {money} PKR\")\n",
        "        withdraw = int(input('Enter the amount you want to withdraw (or 0 to exit): '))\n",
        "\n",
        "        if withdraw == 0:\n",
        "            print(\"Thank you for using the ATM. Goodbye!\")\n",
        "            break\n",
        "        elif withdraw > money:\n",
        "            print('Insufficient funds.')\n",
        "        elif withdraw % 500 != 0:\n",
        "            print('Please enter the amount in multiples of 500.')\n",
        "        else:\n",
        "            money -= withdraw\n",
        "            print(f'Withdrawal successful! New balance: {money} PKR')\n",
        "\n",
        "withdrawal()\n"
      ],
      "metadata": {
        "colab": {
          "base_uri": "https://localhost:8080/"
        },
        "id": "qqC0G5TQh19-",
        "outputId": "664a213d-095b-40b9-d1ac-b6afeff27e84"
      },
      "execution_count": 3,
      "outputs": [
        {
          "output_type": "stream",
          "name": "stdout",
          "text": [
            "\n",
            "Current Balance: 5000 PKR\n",
            "Enter the amount you want to withdraw (or 0 to exit): 430\n",
            "Please enter the amount in multiples of 500.\n",
            "\n",
            "Current Balance: 5000 PKR\n",
            "Enter the amount you want to withdraw (or 0 to exit): 5\n",
            "Please enter the amount in multiples of 500.\n",
            "\n",
            "Current Balance: 5000 PKR\n",
            "Enter the amount you want to withdraw (or 0 to exit): 600\n",
            "Please enter the amount in multiples of 500.\n",
            "\n",
            "Current Balance: 5000 PKR\n",
            "Enter the amount you want to withdraw (or 0 to exit): 2500\n",
            "Withdrawal successful! New balance: 2500 PKR\n",
            "\n",
            "Current Balance: 2500 PKR\n",
            "Enter the amount you want to withdraw (or 0 to exit): 0\n",
            "Thank you for using the ATM. Goodbye!\n"
          ]
        }
      ]
    }
  ]
}