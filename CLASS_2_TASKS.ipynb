{
  "nbformat": 4,
  "nbformat_minor": 0,
  "metadata": {
    "colab": {
      "provenance": [],
      "authorship_tag": "ABX9TyM2TICMzN3NUw3bNzGbode6",
      "include_colab_link": true
    },
    "kernelspec": {
      "name": "python3",
      "display_name": "Python 3"
    },
    "language_info": {
      "name": "python"
    }
  },
  "cells": [
    {
      "cell_type": "markdown",
      "metadata": {
        "id": "view-in-github",
        "colab_type": "text"
      },
      "source": [
        "<a href=\"https://colab.research.google.com/github/SobanAliAwan/DATA-SCIENCE-COURSE-SMIT/blob/main/CLASS_2_TASKS.ipynb\" target=\"_parent\"><img src=\"https://colab.research.google.com/assets/colab-badge.svg\" alt=\"Open In Colab\"/></a>"
      ]
    },
    {
      "cell_type": "code",
      "execution_count": 4,
      "metadata": {
        "colab": {
          "base_uri": "https://localhost:8080/"
        },
        "id": "jWsCXjQKWChD",
        "outputId": "74cabc58-29cf-4182-fbd1-4f77d5d272a8"
      },
      "outputs": [
        {
          "output_type": "stream",
          "name": "stdout",
          "text": [
            "Enter the amount in USD to covert into PKR: 50\n",
            "50.0 Dollars in Pakistani Ruppes are: 14144.0\n"
          ]
        }
      ],
      "source": [
        "# USD TO PKR CALCULATOR\n",
        "USD = float(input('Enter the amount in USD to covert into PKR: '))\n",
        "PKR = USD * 282.88\n",
        "print(f\"{USD} Dollars in Pakistani Ruppes are: {PKR}\")"
      ]
    },
    {
      "cell_type": "code",
      "source": [
        "# BMI CALCULATOR\n",
        "Height = float(input('Enter your height in meter: '))\n",
        "Weight = float(input('Enter your weight in kilograms: '))\n",
        "BMI = Weight / (Height ** 2)\n",
        "\n",
        "print(f\"Your BMI is: {BMI}\")\n",
        "\n",
        "if BMI < 18.5:\n",
        "    print('You are underweight')\n",
        "elif BMI >= 18.5 and BMI <= 24.9:\n",
        "    print('You are normal weight')\n",
        "elif BMI >= 25 and BMI <= 29.9:\n",
        "    print('You are overweight')\n",
        "else:\n",
        "    print('You are obese')"
      ],
      "metadata": {
        "colab": {
          "base_uri": "https://localhost:8080/"
        },
        "id": "rGmuzkfFXFew",
        "outputId": "c6ff171c-a6af-44dc-d023-a0b901482e3b"
      },
      "execution_count": 7,
      "outputs": [
        {
          "output_type": "stream",
          "name": "stdout",
          "text": [
            "Enter your height in meter: 1.7\n",
            "Enter your weight in kilograms: 58\n",
            "Your BMI is: 20.06920415224914\n",
            "You are normal weight\n"
          ]
        }
      ]
    },
    {
      "cell_type": "code",
      "source": [
        "# CELSIUS TO FHARENHEIT SCALE\n",
        "celsius = float(input('Enter the temperature in Celsius: '))\n",
        "fahrenheit = (celsius * 9/5) + 32\n",
        "print(f\"{celsius} degrees Celsius is equal to {fahrenheit} degrees Fahrenheit.\")"
      ],
      "metadata": {
        "colab": {
          "base_uri": "https://localhost:8080/"
        },
        "id": "erbugf7OZcrp",
        "outputId": "a950cb89-944f-4c88-95a6-927de6e2077d"
      },
      "execution_count": 8,
      "outputs": [
        {
          "output_type": "stream",
          "name": "stdout",
          "text": [
            "Enter the temperature in Celsius: 50\n",
            "50.0 degrees Celsius is equal to 122.0 degrees Fahrenheit.\n"
          ]
        }
      ]
    }
  ]
}