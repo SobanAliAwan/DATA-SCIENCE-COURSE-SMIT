{
  "nbformat": 4,
  "nbformat_minor": 0,
  "metadata": {
    "colab": {
      "provenance": [],
      "authorship_tag": "ABX9TyPm/bYMk94Wkz83VHr/rxtC",
      "include_colab_link": true
    },
    "kernelspec": {
      "name": "python3",
      "display_name": "Python 3"
    },
    "language_info": {
      "name": "python"
    }
  },
  "cells": [
    {
      "cell_type": "markdown",
      "metadata": {
        "id": "view-in-github",
        "colab_type": "text"
      },
      "source": [
        "<a href=\"https://colab.research.google.com/github/SobanAliAwan/DATA-SCIENCE-COURSE-SMIT/blob/main/CLASS_5_TASKSipynb.ipynb\" target=\"_parent\"><img src=\"https://colab.research.google.com/assets/colab-badge.svg\" alt=\"Open In Colab\"/></a>"
      ]
    },
    {
      "cell_type": "markdown",
      "source": [
        "### You are developing a search feature for an online store. A list contains product IDs, and you need to check if\n",
        "a particular product exists. Once the product is found, stop the search immediately.\n",
        "Requirement:\n",
        "1. Iterate through the list of product IDs. [1122, 2234,5993,103,9920,7272]\n",
        "2. If the product ID 103 is found, print \"Product Found\" and stop the loop using break.\n",
        "3. Otherwise, continue searching."
      ],
      "metadata": {
        "id": "ETyesHVMmN6P"
      }
    },
    {
      "cell_type": "code",
      "execution_count": 1,
      "metadata": {
        "colab": {
          "base_uri": "https://localhost:8080/"
        },
        "id": "9mtg-kbGmMRr",
        "outputId": "0e37a3c3-f149-4243-bb02-cc9df40fdc8b"
      },
      "outputs": [
        {
          "output_type": "stream",
          "name": "stdout",
          "text": [
            "Product Found\n"
          ]
        }
      ],
      "source": [
        "ids = [1122, 2234,5993,103,9920,7272]\n",
        "for i in ids:\n",
        "  if i == 103:\n",
        "    print(\"Product Found\")\n",
        "    break\n",
        "  else:\n",
        "    continue"
      ]
    },
    {
      "cell_type": "markdown",
      "source": [
        "### You are analyzing website traffic and logging the number of visitors per hour. However, data\n",
        "for hour 3 is corrupted, and you need to skip it while processing the data.\n",
        "Requirement:\n",
        "1. Iterate through a list of hourly visitor counts.\n",
        "Count = [2,10,50,100,400,10]\n",
        "for index,item in enumerate(count)\n",
        "2. If the hour is 3, skip processing and continue with the next hour.\n",
        "3. Print the number of visitors for other hours."
      ],
      "metadata": {
        "id": "NyoAaOVdnTXc"
      }
    },
    {
      "cell_type": "code",
      "source": [
        "hourly_visitors = {\n",
        "    'hour1': 2,\n",
        "    'hour2': 10,\n",
        "    'hour3': 50,\n",
        "    'hour4': 100,\n",
        "    'hour5': 400,\n",
        "    'hour6': 10\n",
        "}\n",
        "\n",
        "for i, visitors in hourly_visitors.items():\n",
        "    if i == 'hour3':\n",
        "        print(f\"Skipping {i} due to corrupted data and continuing with the next hour.\")\n",
        "        continue\n",
        "    print(f\"Number of visitors for {i}: {visitors}\")\n"
      ],
      "metadata": {
        "colab": {
          "base_uri": "https://localhost:8080/"
        },
        "id": "6JLWtR2dnUwi",
        "outputId": "c9960d5e-1567-4cd0-e561-cf069186df93"
      },
      "execution_count": 10,
      "outputs": [
        {
          "output_type": "stream",
          "name": "stdout",
          "text": [
            "Number of visitors for hour1: 2\n",
            "Number of visitors for hour2: 10\n",
            "Skipping hour3 due to corrupted data and continuing with the next hour.\n",
            "Number of visitors for hour4: 100\n",
            "Number of visitors for hour5: 400\n",
            "Number of visitors for hour6: 10\n"
          ]
        }
      ]
    },
    {
      "cell_type": "markdown",
      "source": [
        "### You are building a login system that allows a user a maximum of 3 attempts to enter the\n",
        "correct password. If the user enters the correct password, they should be logged in. If they\n",
        "fail 3 times, the system should lock them out.\n",
        "Requirement:\n",
        "1. The correct password is \"secure123\".\n",
        "2. Allow the user up to 3 attempts.\n",
        "3. If the correct password is entered, print \"Login successful!\" and exit the loop using\n",
        "break.\n",
        "4. If 3 failed attempts occur, print \"Account locked due to too many failed attempts.\"."
      ],
      "metadata": {
        "id": "SHlZ6XRPp6MF"
      }
    },
    {
      "cell_type": "code",
      "source": [
        "attempts = 0\n",
        "Max_attempts = 3\n",
        "\n",
        "while attempts < Max_attempts:\n",
        "    password = input(\"Enter the password: \")\n",
        "    if password == \"secure123\":\n",
        "        print(\"Login successful!\")\n",
        "        break\n",
        "    else:\n",
        "        attempts += 1\n",
        "        print(f\"Incorrect password, {Max_attempts - attempts} attempts are left\")\n",
        "\n",
        "    if attempts == Max_attempts:\n",
        "        print(\"Account locked due to too many failed attempts.\")"
      ],
      "metadata": {
        "colab": {
          "base_uri": "https://localhost:8080/"
        },
        "id": "qMZn8uNrp7O9",
        "outputId": "bb49c183-37d6-42b8-8625-5c944a7c6cf1"
      },
      "execution_count": 13,
      "outputs": [
        {
          "output_type": "stream",
          "name": "stdout",
          "text": [
            "Enter the password: soban 123\n",
            "Incorrect password, 2 attempts are left\n",
            "Enter the password: SECURE!@#\n",
            "Incorrect password, 1 attempts are left\n",
            "Enter the password: SECURE123\n",
            "Incorrect password, 0 attempts are left\n",
            "Account locked due to too many failed attempts.\n"
          ]
        }
      ]
    },
    {
      "cell_type": "markdown",
      "source": [
        "### You are creating a countdown timer for an event. The countdown should start from 10 and go\n",
        "down to 1, but it should skip number 5 for some reason (e.g., a system bug). The timer\n",
        "should print \"Time’s up!\" when it reaches zero.\n",
        "Requirement:\n",
        "1. Start countdown from 10.\n",
        "2. Skip number 5 using continue.\n",
        "3. Print each number as it counts down.\n",
        "4. When the countdown reaches 0, print \"Time’s up!\"."
      ],
      "metadata": {
        "id": "93-Rs4ZxrGFH"
      }
    },
    {
      "cell_type": "code",
      "source": [
        "countdown = 10\n",
        "for i in range(countdown, 0, -1):\n",
        "    if i == 5:\n",
        "        continue\n",
        "    print(i)\n",
        "print(\"Time's up!\")"
      ],
      "metadata": {
        "colab": {
          "base_uri": "https://localhost:8080/"
        },
        "id": "PxrJNGOsq_R0",
        "outputId": "89843b4f-b607-4742-968c-fa690f2f8c32"
      },
      "execution_count": 18,
      "outputs": [
        {
          "output_type": "stream",
          "name": "stdout",
          "text": [
            "10\n",
            "9\n",
            "8\n",
            "7\n",
            "6\n",
            "4\n",
            "3\n",
            "2\n",
            "1\n",
            "Time's up!\n"
          ]
        }
      ]
    },
    {
      "cell_type": "markdown",
      "source": [
        "### You need to check whether a number is prime or not. A prime number is only divisible by 1\n",
        "and itself.\n",
        "Requirement:\n",
        "1. Define a function is_prime(num) that checks if a number is prime.\n",
        "2. Use a for loop to iterate from 2 to num - 1 to check divisibility.\n",
        "3. If the number is divisible by any number in the range, return False; otherwise, return\n",
        "True.\n",
        "4. Take user input and print whether it is prime or not."
      ],
      "metadata": {
        "id": "tPD8UjwvrpRr"
      }
    },
    {
      "cell_type": "code",
      "source": [
        "def is_prime(num):\n",
        "    if num <= 1:  # Prime numbers are greater than 1\n",
        "        return False\n",
        "    for i in range(2, num):\n",
        "        if num % i == 0:\n",
        "            return False\n",
        "    return True\n",
        "\n",
        "# Take user input\n",
        "number = int(input(\"Enter a number: \"))\n",
        "\n",
        "# Check and print result\n",
        "if is_prime(number):\n",
        "    print(f\"{number} is a prime number.\")\n",
        "else:\n",
        "    print(f\"{number} is not a prime number.\")\n",
        "\n"
      ],
      "metadata": {
        "colab": {
          "base_uri": "https://localhost:8080/"
        },
        "id": "6p8Yx11zrqcm",
        "outputId": "759d4474-2865-4b41-be48-b0231e533c55"
      },
      "execution_count": 19,
      "outputs": [
        {
          "output_type": "stream",
          "name": "stdout",
          "text": [
            "Enter a number: 5\n",
            "5 is a prime number.\n"
          ]
        }
      ]
    },
    {
      "cell_type": "markdown",
      "source": [
        "### You are developing a password strength checker for a mobile application.\n",
        "Hint: Use input function, isdigit(), isupper() functions as well\n",
        "Requirement:\n",
        "1. Define a function check_password(password).\n",
        "2. Check if the password meets the following criteria:\n",
        "a. At least 8 characters long\n",
        "b. Contains at least one digit\n",
        "c. Contains at least one uppercase letter\n",
        "\n",
        "3. If the password is weak, prompt the user to enter a new one (using while loop)."
      ],
      "metadata": {
        "id": "7Fdy0PTgsOlz"
      }
    },
    {
      "cell_type": "code",
      "source": [
        "def check_password(password):\n",
        "    while True:\n",
        "        if (len(password) >= 8 and any(char.isdigit() for char in password) and any(char.isupper() for char in password)):\n",
        "            print(\"Password satisfies all the essential conditions and is Strong.\")\n",
        "            break\n",
        "        else:\n",
        "            print(\"Weak password! Must be at least 8 characters long, contain one digit, and one uppercase letter.\")\n",
        "            password = input(\"Enter a new password: \")\n",
        "\n",
        "check_password(input(\"Enter a password: \"))\n",
        "\n"
      ],
      "metadata": {
        "colab": {
          "base_uri": "https://localhost:8080/"
        },
        "id": "quogB6skr8XG",
        "outputId": "547271a4-27e8-40b1-f027-85c7077a1222"
      },
      "execution_count": 25,
      "outputs": [
        {
          "output_type": "stream",
          "name": "stdout",
          "text": [
            "Enter a password: sobanali\n",
            "Weak password! Must be at least 8 characters long, contain one digit, and one uppercase letter.\n",
            "Enter a new password: Sobanaliawan123\n",
            "Password satisfies all the essential conditions and is Strong.\n"
          ]
        }
      ]
    }
  ]
}