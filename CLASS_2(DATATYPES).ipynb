{
  "nbformat": 4,
  "nbformat_minor": 0,
  "metadata": {
    "colab": {
      "provenance": [],
      "authorship_tag": "ABX9TyMVyemYmrQpeA1I19yDUF5R",
      "include_colab_link": true
    },
    "kernelspec": {
      "name": "python3",
      "display_name": "Python 3"
    },
    "language_info": {
      "name": "python"
    }
  },
  "cells": [
    {
      "cell_type": "markdown",
      "metadata": {
        "id": "view-in-github",
        "colab_type": "text"
      },
      "source": [
        "<a href=\"https://colab.research.google.com/github/SobanAliAwan/DATA-SCIENCE-COURSE-SMIT/blob/main/CLASS_2(DATATYPES).ipynb\" target=\"_parent\"><img src=\"https://colab.research.google.com/assets/colab-badge.svg\" alt=\"Open In Colab\"/></a>"
      ]
    },
    {
      "cell_type": "code",
      "execution_count": 1,
      "metadata": {
        "colab": {
          "base_uri": "https://localhost:8080/"
        },
        "id": "HqjMYnLiYtTl",
        "outputId": "3d066ef8-a5b5-4202-81f9-b1448dfd3ef4"
      },
      "outputs": [
        {
          "output_type": "stream",
          "name": "stdout",
          "text": [
            "Hello World\n"
          ]
        }
      ],
      "source": [
        "print('Hello World')\n"
      ]
    },
    {
      "cell_type": "markdown",
      "source": [
        "### NUMERIC DATATYPE"
      ],
      "metadata": {
        "id": "jsCahVIvhpHe"
      }
    },
    {
      "cell_type": "code",
      "source": [
        "a = 6\n",
        "b = 7\n",
        "print(type(a))\n",
        "print(type(b))"
      ],
      "metadata": {
        "colab": {
          "base_uri": "https://localhost:8080/"
        },
        "id": "5TKoBjtlhraY",
        "outputId": "6b7bda4b-9db4-49c8-dfcd-fc962df0f1e2"
      },
      "execution_count": 3,
      "outputs": [
        {
          "output_type": "stream",
          "name": "stdout",
          "text": [
            "<class 'int'>\n",
            "<class 'int'>\n"
          ]
        }
      ]
    },
    {
      "cell_type": "code",
      "source": [
        "s = a + b\n",
        "print(s)\n"
      ],
      "metadata": {
        "colab": {
          "base_uri": "https://localhost:8080/"
        },
        "id": "xLcvL8vVhzbX",
        "outputId": "97eb6328-a58d-4bdd-99c6-58e879d7593a"
      },
      "execution_count": 4,
      "outputs": [
        {
          "output_type": "stream",
          "name": "stdout",
          "text": [
            "13\n"
          ]
        }
      ]
    },
    {
      "cell_type": "code",
      "source": [
        "s = a * b\n",
        "print(s)"
      ],
      "metadata": {
        "colab": {
          "base_uri": "https://localhost:8080/"
        },
        "id": "lf_OiLb6iCam",
        "outputId": "b1607473-2eac-4176-872f-6404718d0dd7"
      },
      "execution_count": 5,
      "outputs": [
        {
          "output_type": "stream",
          "name": "stdout",
          "text": [
            "42\n"
          ]
        }
      ]
    },
    {
      "cell_type": "code",
      "source": [
        "s = a / b\n",
        "print(s)"
      ],
      "metadata": {
        "colab": {
          "base_uri": "https://localhost:8080/"
        },
        "id": "uBe3mjSaiHeN",
        "outputId": "a216777a-429e-4a22-8d3d-318572c0be03"
      },
      "execution_count": 6,
      "outputs": [
        {
          "output_type": "stream",
          "name": "stdout",
          "text": [
            "0.8571428571428571\n"
          ]
        }
      ]
    },
    {
      "cell_type": "code",
      "source": [
        "s = a - b\n",
        "print(s)\n"
      ],
      "metadata": {
        "colab": {
          "base_uri": "https://localhost:8080/"
        },
        "id": "pO3NzxoViNKL",
        "outputId": "56400cf0-9a5d-41a5-ed4f-6fdaf267cdf8"
      },
      "execution_count": 7,
      "outputs": [
        {
          "output_type": "stream",
          "name": "stdout",
          "text": [
            "-1\n"
          ]
        }
      ]
    },
    {
      "cell_type": "code",
      "source": [
        "s = a % b\n",
        "print(s)"
      ],
      "metadata": {
        "colab": {
          "base_uri": "https://localhost:8080/"
        },
        "id": "R96w73lqiP1p",
        "outputId": "15b15a5c-d60f-4ba9-abd6-742e34f63b8a"
      },
      "execution_count": 8,
      "outputs": [
        {
          "output_type": "stream",
          "name": "stdout",
          "text": [
            "6\n"
          ]
        }
      ]
    },
    {
      "cell_type": "code",
      "source": [
        "s = a // b\n",
        "print(s)"
      ],
      "metadata": {
        "colab": {
          "base_uri": "https://localhost:8080/"
        },
        "id": "Dj33S--QiRo3",
        "outputId": "a55e4a2e-b5ec-49b0-fc6f-b8898ef122f6"
      },
      "execution_count": 9,
      "outputs": [
        {
          "output_type": "stream",
          "name": "stdout",
          "text": [
            "0\n"
          ]
        }
      ]
    },
    {
      "cell_type": "markdown",
      "source": [
        "### STRING DATATYPE"
      ],
      "metadata": {
        "id": "shkaWFiJib8q"
      }
    },
    {
      "cell_type": "code",
      "source": [
        "name = 'Soban Ali Awan'\n",
        "print(type(name))\n",
        "print(name)"
      ],
      "metadata": {
        "colab": {
          "base_uri": "https://localhost:8080/"
        },
        "id": "h7RIP5WZiV3S",
        "outputId": "80a4221d-a139-45b0-b5c8-71a0396d0530"
      },
      "execution_count": 20,
      "outputs": [
        {
          "output_type": "stream",
          "name": "stdout",
          "text": [
            "<class 'str'>\n",
            "Soban Ali Awan\n"
          ]
        }
      ]
    },
    {
      "cell_type": "code",
      "source": [
        "name.upper()"
      ],
      "metadata": {
        "colab": {
          "base_uri": "https://localhost:8080/",
          "height": 36
        },
        "id": "x3UCfe9XjAlD",
        "outputId": "bda50ed2-bbcb-418a-c13a-826cc94b25d1"
      },
      "execution_count": 12,
      "outputs": [
        {
          "output_type": "execute_result",
          "data": {
            "text/plain": [
              "'SOBAN ALI AWAN'"
            ],
            "application/vnd.google.colaboratory.intrinsic+json": {
              "type": "string"
            }
          },
          "metadata": {},
          "execution_count": 12
        }
      ]
    },
    {
      "cell_type": "code",
      "source": [
        "name.lower()"
      ],
      "metadata": {
        "colab": {
          "base_uri": "https://localhost:8080/",
          "height": 36
        },
        "id": "VUrclhI6jCxT",
        "outputId": "f2322868-59c2-4a4d-8986-5a5db8f72b21"
      },
      "execution_count": 13,
      "outputs": [
        {
          "output_type": "execute_result",
          "data": {
            "text/plain": [
              "'soban ali awan'"
            ],
            "application/vnd.google.colaboratory.intrinsic+json": {
              "type": "string"
            }
          },
          "metadata": {},
          "execution_count": 13
        }
      ]
    },
    {
      "cell_type": "code",
      "source": [
        "name[6] # indexing work on string\n"
      ],
      "metadata": {
        "colab": {
          "base_uri": "https://localhost:8080/",
          "height": 36
        },
        "id": "FHxVr1rtjGF9",
        "outputId": "6d32aab3-a765-48ae-fb2a-2f63e3a75575"
      },
      "execution_count": 17,
      "outputs": [
        {
          "output_type": "execute_result",
          "data": {
            "text/plain": [
              "'A'"
            ],
            "application/vnd.google.colaboratory.intrinsic+json": {
              "type": "string"
            }
          },
          "metadata": {},
          "execution_count": 17
        }
      ]
    },
    {
      "cell_type": "code",
      "source": [
        "len(name) # not a build in function for stirng data type thats why we dont use dot operator with  len function"
      ],
      "metadata": {
        "colab": {
          "base_uri": "https://localhost:8080/"
        },
        "id": "Z0PnSWwoj6QM",
        "outputId": "a00c9108-d6b0-4ade-e98c-4ec263cb2a8e"
      },
      "execution_count": 23,
      "outputs": [
        {
          "output_type": "execute_result",
          "data": {
            "text/plain": [
              "14"
            ]
          },
          "metadata": {},
          "execution_count": 23
        }
      ]
    },
    {
      "cell_type": "code",
      "source": [
        "name = \"\"\" MY\n",
        "Name\n",
        "Is\n",
        "Soban\n",
        "Ali\n",
        "Awan \"\"\"\n",
        "print(name)"
      ],
      "metadata": {
        "colab": {
          "base_uri": "https://localhost:8080/"
        },
        "id": "1QA2stEFkD2c",
        "outputId": "046a0688-48fc-4096-8482-f330d6c4ee5b"
      },
      "execution_count": 27,
      "outputs": [
        {
          "output_type": "stream",
          "name": "stdout",
          "text": [
            " MY\n",
            "Name \n",
            "Is \n",
            "Soban \n",
            "Ali \n",
            "Awan \n"
          ]
        }
      ]
    },
    {
      "cell_type": "markdown",
      "source": [
        "### LISTS"
      ],
      "metadata": {
        "id": "ejvindcGmflz"
      }
    },
    {
      "cell_type": "code",
      "source": [
        "my_list = [1,\n",
        "           2,\n",
        "           3,\n",
        "           4,\n",
        "           5]\n",
        "print(my_list)"
      ],
      "metadata": {
        "colab": {
          "base_uri": "https://localhost:8080/"
        },
        "id": "Tn_R2rB4mTgx",
        "outputId": "5845c24f-7a38-4a81-bdfa-0f93d42ff248"
      },
      "execution_count": 29,
      "outputs": [
        {
          "output_type": "stream",
          "name": "stdout",
          "text": [
            "[1, 2, 3, 4, 5]\n"
          ]
        }
      ]
    },
    {
      "cell_type": "code",
      "source": [
        "my_list.append(6)\n",
        "print(my_list)"
      ],
      "metadata": {
        "colab": {
          "base_uri": "https://localhost:8080/"
        },
        "id": "lv4NQ2GWmp5W",
        "outputId": "3c565d37-5ba4-4da3-d5f4-8099a57fb31e"
      },
      "execution_count": 30,
      "outputs": [
        {
          "output_type": "stream",
          "name": "stdout",
          "text": [
            "[1, 2, 3, 4, 5, 6]\n"
          ]
        }
      ]
    },
    {
      "cell_type": "code",
      "source": [
        "my_list = ['a', 'b', 'c', 'd', 'e']\n",
        "A = my_list.pop(2)\n",
        "print(A)         # Output: 'c'\n",
        "print(my_list)   # Output: ['a', 'b', 'd', 'e']\n"
      ],
      "metadata": {
        "colab": {
          "base_uri": "https://localhost:8080/"
        },
        "id": "UOzD7RfUmvys",
        "outputId": "22a735eb-7e4e-4789-db7a-189d9a387596"
      },
      "execution_count": 41,
      "outputs": [
        {
          "output_type": "stream",
          "name": "stdout",
          "text": [
            "c\n",
            "['a', 'b', 'd', 'e']\n"
          ]
        }
      ]
    },
    {
      "cell_type": "code",
      "source": [
        "my_list.insert(0, 0)\n",
        "print(my_list)"
      ],
      "metadata": {
        "colab": {
          "base_uri": "https://localhost:8080/"
        },
        "id": "AC2AEB6dmxtA",
        "outputId": "ffac25a8-d1cc-4bee-ccc7-df52f0282649"
      },
      "execution_count": 32,
      "outputs": [
        {
          "output_type": "stream",
          "name": "stdout",
          "text": [
            "[0, 1, 2, 3, 4, 5]\n"
          ]
        }
      ]
    },
    {
      "cell_type": "code",
      "source": [
        "my_list.reverse()\n",
        "print(my_list)"
      ],
      "metadata": {
        "colab": {
          "base_uri": "https://localhost:8080/"
        },
        "id": "iQBpa7nem7cK",
        "outputId": "e93d0e04-6621-4886-c562-862fe6e2faa1"
      },
      "execution_count": 33,
      "outputs": [
        {
          "output_type": "stream",
          "name": "stdout",
          "text": [
            "[5, 4, 3, 2, 1, 0]\n"
          ]
        }
      ]
    },
    {
      "cell_type": "code",
      "source": [
        "my_list.sort()\n",
        "print(my_list)"
      ],
      "metadata": {
        "colab": {
          "base_uri": "https://localhost:8080/"
        },
        "id": "TtjKR8E3m9N7",
        "outputId": "a08c79c9-0b93-4d7b-9578-a790f9f5ce88"
      },
      "execution_count": 35,
      "outputs": [
        {
          "output_type": "stream",
          "name": "stdout",
          "text": [
            "[0, 1, 2, 3, 4, 5]\n"
          ]
        }
      ]
    },
    {
      "cell_type": "markdown",
      "source": [
        "### TUPLE"
      ],
      "metadata": {
        "id": "YP9ejXMFoIS1"
      }
    },
    {
      "cell_type": "code",
      "source": [
        "# imutable data type just like array in cpp\n",
        "my_tuple = (1, 2, 3, 4, 5)\n",
        "print(my_tuple)"
      ],
      "metadata": {
        "colab": {
          "base_uri": "https://localhost:8080/"
        },
        "id": "VnKv4qdenFmp",
        "outputId": "e1d3430c-710f-41c5-f01b-e919501c98a2"
      },
      "execution_count": 43,
      "outputs": [
        {
          "output_type": "stream",
          "name": "stdout",
          "text": [
            "(1, 2, 3, 4, 5)\n"
          ]
        }
      ]
    },
    {
      "cell_type": "code",
      "source": [
        "my_tuple.count(2)"
      ],
      "metadata": {
        "colab": {
          "base_uri": "https://localhost:8080/"
        },
        "id": "-_PFm3Y3oeLK",
        "outputId": "be9fc49a-710d-4b43-d0ae-114d9cc0ac06"
      },
      "execution_count": 44,
      "outputs": [
        {
          "output_type": "execute_result",
          "data": {
            "text/plain": [
              "1"
            ]
          },
          "metadata": {},
          "execution_count": 44
        }
      ]
    },
    {
      "cell_type": "code",
      "source": [
        "my_tuple.index(3)"
      ],
      "metadata": {
        "colab": {
          "base_uri": "https://localhost:8080/"
        },
        "id": "OpPB4yY_opc-",
        "outputId": "1ab7f0be-ec5b-441b-df63-ca12514e54f6"
      },
      "execution_count": 45,
      "outputs": [
        {
          "output_type": "execute_result",
          "data": {
            "text/plain": [
              "2"
            ]
          },
          "metadata": {},
          "execution_count": 45
        }
      ]
    },
    {
      "cell_type": "code",
      "source": [
        "# due to immutability append and insert functions will not work on tuple"
      ],
      "metadata": {
        "id": "tX0IPTTKouEs"
      },
      "execution_count": 46,
      "outputs": []
    },
    {
      "cell_type": "markdown",
      "source": [
        "### SET"
      ],
      "metadata": {
        "id": "9aqv6LW7phB_"
      }
    },
    {
      "cell_type": "code",
      "source": [
        "set1 = {1, 2, 3, 4, 5}\n",
        "print(set1)"
      ],
      "metadata": {
        "colab": {
          "base_uri": "https://localhost:8080/"
        },
        "id": "XOwYQfYOpaOV",
        "outputId": "16b9f5e4-e6af-41a7-c75e-a391d115bce4"
      },
      "execution_count": 55,
      "outputs": [
        {
          "output_type": "stream",
          "name": "stdout",
          "text": [
            "{1, 2, 3, 4, 5}\n"
          ]
        }
      ]
    },
    {
      "cell_type": "code",
      "source": [
        "# For indexing in sets you will need loops normal indexing donot work on sets"
      ],
      "metadata": {
        "id": "AYuNSwWfprTc"
      },
      "execution_count": 48,
      "outputs": []
    },
    {
      "cell_type": "code",
      "source": [
        "# Type casting\n",
        "list2 = [1, 2, 3, 4, 5, 5, 6, 6, 6, 6, 7]\n",
        "set2 = set(list2)\n",
        "print(set2)"
      ],
      "metadata": {
        "colab": {
          "base_uri": "https://localhost:8080/"
        },
        "id": "77GnmhdApy9T",
        "outputId": "76d4c0ba-301a-498d-a302-c8f930684a1d"
      },
      "execution_count": 59,
      "outputs": [
        {
          "output_type": "stream",
          "name": "stdout",
          "text": [
            "{1, 2, 3, 4, 5, 6, 7}\n"
          ]
        }
      ]
    },
    {
      "cell_type": "markdown",
      "source": [
        "### DICTIONARY"
      ],
      "metadata": {
        "id": "5PRcPu-ArKk6"
      }
    },
    {
      "cell_type": "code",
      "source": [
        "countries_capital = {'Pakistan': 'Islamabad',\n",
        "                     'India': 'New Delhi',\n",
        "                     'China': 'Beijing'}\n",
        "print(countries_capital)"
      ],
      "metadata": {
        "colab": {
          "base_uri": "https://localhost:8080/"
        },
        "id": "KRfSVELorMk2",
        "outputId": "167db5a7-5f5e-42b6-e61a-ba27a30a1490"
      },
      "execution_count": 60,
      "outputs": [
        {
          "output_type": "stream",
          "name": "stdout",
          "text": [
            "{'Pakistan': 'Islamabad', 'India': 'New Delhi', 'China': 'Beijing'}\n"
          ]
        }
      ]
    },
    {
      "cell_type": "code",
      "source": [
        "countries_capital['Pakistan']"
      ],
      "metadata": {
        "colab": {
          "base_uri": "https://localhost:8080/",
          "height": 36
        },
        "id": "uPn7ks5brfCR",
        "outputId": "29e5a691-95ac-4c24-9acf-3f16259c2f39"
      },
      "execution_count": 63,
      "outputs": [
        {
          "output_type": "execute_result",
          "data": {
            "text/plain": [
              "'Islamabad'"
            ],
            "application/vnd.google.colaboratory.intrinsic+json": {
              "type": "string"
            }
          },
          "metadata": {},
          "execution_count": 63
        }
      ]
    },
    {
      "cell_type": "code",
      "source": [
        "# f stirng\n",
        "print(f\"The capital of Pakistan is {countries_capital['Pakistan']}\")"
      ],
      "metadata": {
        "colab": {
          "base_uri": "https://localhost:8080/"
        },
        "id": "yfHrYdWfrmW2",
        "outputId": "25c83f50-5e18-4f29-e852-5f703c613308"
      },
      "execution_count": 75,
      "outputs": [
        {
          "output_type": "stream",
          "name": "stdout",
          "text": [
            "The capital of Pakistan is Islamabad\n"
          ]
        }
      ]
    },
    {
      "cell_type": "markdown",
      "source": [
        "### INPUT"
      ],
      "metadata": {
        "id": "4GA75t69sCLT"
      }
    },
    {
      "cell_type": "code",
      "source": [
        "name = input('Enter your name: ')"
      ],
      "metadata": {
        "colab": {
          "base_uri": "https://localhost:8080/"
        },
        "id": "yLBjyXfXsAGC",
        "outputId": "c3e07b62-8112-4682-9ced-c01d6e6cc1cb"
      },
      "execution_count": 67,
      "outputs": [
        {
          "name": "stdout",
          "output_type": "stream",
          "text": [
            "Enter your name: Soban Ali Awan\n"
          ]
        }
      ]
    },
    {
      "cell_type": "code",
      "source": [
        "# Simple Calculator\n",
        "num1 = float(input('Enter first number: '))\n",
        "num2 = float(input('Enter second number: '))\n",
        "\n",
        "sum = num1 + num2\n",
        "substract = num1 - num2\n",
        "multiply = num1 * num2\n",
        "divide = num1 / num2\n",
        "remainder = num1 % num2\n",
        "float_division = num1 // num2\n",
        "print(f'The sum of {num1} and {num2} is {sum}')\n",
        "print(f'The substraction of {num1} and {num2} is {substract}')\n",
        "print(f'The multiplication of {num1} and {num2} is {multiply}')\n",
        "print(f'The division of {num1} and {num2} is {divide}')\n",
        "print(f'The remainder of {num1} and {num2} is {remainder}')\n",
        "print(f'The float division of {num1} and {num2} is {float_division}')\n",
        "\n"
      ],
      "metadata": {
        "colab": {
          "base_uri": "https://localhost:8080/"
        },
        "id": "nxni5_JpsLoD",
        "outputId": "e0e1ca74-915b-44de-d1f8-a5bb8d967056"
      },
      "execution_count": 79,
      "outputs": [
        {
          "output_type": "stream",
          "name": "stdout",
          "text": [
            "Enter first number: 2\n",
            "Enter second number: 2\n",
            "The sum of 2.0 and 2.0 is 4.0\n",
            "The substraction of 2.0 and 2.0 is 0.0\n",
            "The multiplication of 2.0 and 2.0 is 4.0\n",
            "The division of 2.0 and 2.0 is 1.0\n",
            "The remainder of 2.0 and 2.0 is 0.0\n",
            "The float division of 2.0 and 2.0 is 1.0\n"
          ]
        }
      ]
    }
  ]
}