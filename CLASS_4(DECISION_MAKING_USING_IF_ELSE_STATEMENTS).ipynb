{
  "nbformat": 4,
  "nbformat_minor": 0,
  "metadata": {
    "colab": {
      "provenance": [],
      "include_colab_link": true
    },
    "kernelspec": {
      "name": "python3",
      "display_name": "Python 3"
    },
    "language_info": {
      "name": "python"
    }
  },
  "cells": [
    {
      "cell_type": "markdown",
      "metadata": {
        "id": "view-in-github",
        "colab_type": "text"
      },
      "source": [
        "<a href=\"https://colab.research.google.com/github/SobanAliAwan/DATA-SCIENCE-COURSE-SMIT/blob/main/CLASS_4(DECISION_MAKING_USING_IF_ELSE_STATEMENTS).ipynb\" target=\"_parent\"><img src=\"https://colab.research.google.com/assets/colab-badge.svg\" alt=\"Open In Colab\"/></a>"
      ]
    },
    {
      "cell_type": "code",
      "execution_count": null,
      "metadata": {
        "id": "WWVlecLli3hF"
      },
      "outputs": [],
      "source": [
        "a=566"
      ]
    },
    {
      "cell_type": "code",
      "source": [
        "\"The number is 10\""
      ],
      "metadata": {
        "colab": {
          "base_uri": "https://localhost:8080/",
          "height": 36
        },
        "id": "zb4OKs8Kjnsk",
        "outputId": "219f28f2-8467-43f9-eaae-3f30f16bc63f"
      },
      "execution_count": null,
      "outputs": [
        {
          "output_type": "execute_result",
          "data": {
            "text/plain": [
              "'The number is 10'"
            ],
            "application/vnd.google.colaboratory.intrinsic+json": {
              "type": "string"
            }
          },
          "metadata": {},
          "execution_count": 4
        }
      ]
    },
    {
      "cell_type": "code",
      "source": [
        "f\"The number is {a}\""
      ],
      "metadata": {
        "colab": {
          "base_uri": "https://localhost:8080/",
          "height": 36
        },
        "id": "LOsOXzWejsGz",
        "outputId": "75a9fa67-f20a-4a76-c351-aaea25cada79"
      },
      "execution_count": null,
      "outputs": [
        {
          "output_type": "execute_result",
          "data": {
            "text/plain": [
              "'The number is 566'"
            ],
            "application/vnd.google.colaboratory.intrinsic+json": {
              "type": "string"
            }
          },
          "metadata": {},
          "execution_count": 9
        }
      ]
    },
    {
      "cell_type": "code",
      "source": [
        "def sum(a=2,b=2):\n",
        "  print(a+b)"
      ],
      "metadata": {
        "id": "_qfpqjdKkmTR"
      },
      "execution_count": null,
      "outputs": []
    },
    {
      "cell_type": "code",
      "source": [
        "sum(2)"
      ],
      "metadata": {
        "colab": {
          "base_uri": "https://localhost:8080/"
        },
        "id": "BJo2MwCakqo-",
        "outputId": "b74eab55-5951-48a6-d4c7-c8808ab296d2"
      },
      "execution_count": null,
      "outputs": [
        {
          "output_type": "stream",
          "name": "stdout",
          "text": [
            "4\n"
          ]
        }
      ]
    },
    {
      "cell_type": "markdown",
      "source": [
        "### Making Decisions"
      ],
      "metadata": {
        "id": "tdXLCNLEkRIe"
      }
    },
    {
      "cell_type": "code",
      "source": [
        "is_student = False"
      ],
      "metadata": {
        "id": "f8U1gwPbl4Fi"
      },
      "execution_count": null,
      "outputs": []
    },
    {
      "cell_type": "code",
      "source": [
        "if is_student==True:\n",
        "  print(\"Allow\")"
      ],
      "metadata": {
        "id": "IZQoarJzkS43"
      },
      "execution_count": null,
      "outputs": []
    },
    {
      "cell_type": "code",
      "source": [
        "marks=70\n",
        "is_student = True\n",
        "\n",
        "if is_student==True and marks>=50:\n",
        "  print(\"Pass\")\n",
        "else:\n",
        "  print(\"Fail\")"
      ],
      "metadata": {
        "colab": {
          "base_uri": "https://localhost:8080/"
        },
        "id": "9cjqhYI-mFls",
        "outputId": "f3e54dcf-3044-4ee7-972a-a25445d78f00"
      },
      "execution_count": null,
      "outputs": [
        {
          "output_type": "stream",
          "name": "stdout",
          "text": [
            "Pass\n"
          ]
        }
      ]
    },
    {
      "cell_type": "markdown",
      "source": [
        "## Calculator"
      ],
      "metadata": {
        "id": "vepKErhQnE7w"
      }
    },
    {
      "cell_type": "code",
      "source": [
        "def add(a,b):\n",
        "  return a+b\n",
        "\n",
        "def sub(a,b):\n",
        "  return a-b\n",
        "\n",
        "def calculator():\n",
        "  a = int(input(\"Provide value of A \"))\n",
        "  b = int(input(\"Provide value of B \"))\n",
        "  op = input(\"Provide operator + or - \")\n",
        "\n",
        "  if op==\"+\":\n",
        "    print(add(a,b))\n",
        "  elif op==\"-\":\n",
        "    print(sub(a,b))\n",
        "  else:\n",
        "    print(\"Unsupported Operator\")\n"
      ],
      "metadata": {
        "id": "NRBoGmrTmPLa"
      },
      "execution_count": null,
      "outputs": []
    },
    {
      "cell_type": "code",
      "source": [
        "calculator()"
      ],
      "metadata": {
        "colab": {
          "base_uri": "https://localhost:8080/"
        },
        "id": "c4HmYZdznnD0",
        "outputId": "1cefb77f-0f63-48bc-9046-8f2e8ae3da43"
      },
      "execution_count": null,
      "outputs": [
        {
          "output_type": "stream",
          "name": "stdout",
          "text": [
            "Provide value of A 4\n",
            "Provide value of B 2\n",
            "Provide operator + or - -\n",
            "2\n"
          ]
        }
      ]
    },
    {
      "cell_type": "markdown",
      "source": [
        "### DOOR AUTOMATION"
      ],
      "metadata": {
        "id": "RulbHXdpo0Uz"
      }
    },
    {
      "cell_type": "markdown",
      "source": [
        "1. MUST BE A STUDENT\n",
        "2. COULD BE A TEACHER\n",
        "3. RELEVANT CLASS"
      ],
      "metadata": {
        "id": "Avaqgz3Ao3IB"
      }
    },
    {
      "cell_type": "code",
      "source": [
        "def open_door(is_student, course, is_teacher):\n",
        "  relevant_cources = [\"AI\", \"WEB\"]\n",
        "  if is_student==True:\n",
        "    if course in relevant_cources:\n",
        "      print(\"Allow\")\n",
        "    else:\n",
        "      print(\"Not Allowed\")\n",
        "  elif is_teacher==True:\n",
        "    if course in relevant_cources:\n",
        "      print(\"Allow\")\n",
        "    else:\n",
        "      print(\"Not Allowed\")\n",
        "  else:\n",
        "    print(\"Not Allowed\")\n"
      ],
      "metadata": {
        "id": "FZVM4RadnoC_"
      },
      "execution_count": null,
      "outputs": []
    },
    {
      "cell_type": "code",
      "source": [
        "open_door(\n",
        "    is_student=False,\n",
        "    course=\"WEB\",\n",
        "    is_teacher=True\n",
        ")"
      ],
      "metadata": {
        "colab": {
          "base_uri": "https://localhost:8080/"
        },
        "id": "88Q2s1W_poR7",
        "outputId": "190a735c-025f-471d-f815-2f615df51949"
      },
      "execution_count": null,
      "outputs": [
        {
          "output_type": "stream",
          "name": "stdout",
          "text": [
            "Allow\n"
          ]
        }
      ]
    },
    {
      "cell_type": "markdown",
      "source": [
        "The program should display a menu with options: Starter, Main Course, and Dessert.\n",
        "The user should be able to choose one of these options.\n",
        "If the chosen option is unavailable, the program should notify the user.\n",
        "If user selects starter, following options should be given Fries, Sandwitch\n",
        "If the user selects Main Course, they should be given the option to choose a side (Biryani, Karai).\n",
        "If the user selects Dessert, they should be given the option to choose a topping (Kheer, Mithai).\n"
      ],
      "metadata": {
        "id": "DYbpwUGJxQJz"
      }
    },
    {
      "cell_type": "code",
      "source": [
        "def restaurent_system():\n",
        "  print(\"Menu\")\n",
        "  print(\"1. Starter \\n2. Main Course \\n3.Dessert \")\n",
        "  inp = int(input(\"Please select out of these\"))\n",
        "\n",
        "  if inp==1:\n",
        "    # starter menu\n",
        "    print(\"Starter Menu Items\\n1.\")\n",
        "    # Take input again\n",
        "\n",
        "    # print Final Order\n",
        "\n",
        "  elif inp==2:\n",
        "    # user selected main course\n",
        "    # display main course items\n",
        "    # take input again\n",
        "\n"
      ],
      "metadata": {
        "id": "E6mKC4MVpyBX"
      },
      "execution_count": null,
      "outputs": []
    }
  ]
}