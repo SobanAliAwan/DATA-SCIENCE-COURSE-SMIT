{
  "nbformat": 4,
  "nbformat_minor": 0,
  "metadata": {
    "colab": {
      "provenance": [],
      "authorship_tag": "ABX9TyOJksTTlzk23jB6JHA6yUvx",
      "include_colab_link": true
    },
    "kernelspec": {
      "name": "python3",
      "display_name": "Python 3"
    },
    "language_info": {
      "name": "python"
    }
  },
  "cells": [
    {
      "cell_type": "markdown",
      "metadata": {
        "id": "view-in-github",
        "colab_type": "text"
      },
      "source": [
        "<a href=\"https://colab.research.google.com/github/SobanAliAwan/DATA-SCIENCE-COURSE-SMIT/blob/main/CLASS_3.ipynb\" target=\"_parent\"><img src=\"https://colab.research.google.com/assets/colab-badge.svg\" alt=\"Open In Colab\"/></a>"
      ]
    },
    {
      "cell_type": "markdown",
      "source": [
        "### ARITHEMATIC OPERATORS"
      ],
      "metadata": {
        "id": "2Mk4an4LpAf4"
      }
    },
    {
      "cell_type": "code",
      "source": [
        "a = 4\n",
        "y = 2\n",
        "x = a + y\n",
        "print(x)"
      ],
      "metadata": {
        "colab": {
          "base_uri": "https://localhost:8080/"
        },
        "id": "G_j71_Hho9zM",
        "outputId": "479ec5fd-fb88-4433-dd51-229bdf2b8251"
      },
      "execution_count": 1,
      "outputs": [
        {
          "output_type": "stream",
          "name": "stdout",
          "text": [
            "6\n"
          ]
        }
      ]
    },
    {
      "cell_type": "code",
      "source": [
        "x = a - y\n",
        "print(x)\n"
      ],
      "metadata": {
        "colab": {
          "base_uri": "https://localhost:8080/"
        },
        "id": "puNowUlypLOE",
        "outputId": "3fe29e5d-f7d2-49aa-db36-5384c7999755"
      },
      "execution_count": 2,
      "outputs": [
        {
          "output_type": "stream",
          "name": "stdout",
          "text": [
            "2\n"
          ]
        }
      ]
    },
    {
      "cell_type": "code",
      "source": [
        "x = a * y\n",
        "print(x)"
      ],
      "metadata": {
        "colab": {
          "base_uri": "https://localhost:8080/"
        },
        "id": "S_Om6GSupOml",
        "outputId": "7c2d27cf-f1f7-49b3-b8c5-010f328e4119"
      },
      "execution_count": 3,
      "outputs": [
        {
          "output_type": "stream",
          "name": "stdout",
          "text": [
            "8\n"
          ]
        }
      ]
    },
    {
      "cell_type": "code",
      "source": [
        "x = a / y\n",
        "print(x)"
      ],
      "metadata": {
        "colab": {
          "base_uri": "https://localhost:8080/"
        },
        "id": "71BglXK4pUfz",
        "outputId": "6d97a9a0-3529-4c3a-a8ba-7273dbb2104d"
      },
      "execution_count": 4,
      "outputs": [
        {
          "output_type": "stream",
          "name": "stdout",
          "text": [
            "2.0\n"
          ]
        }
      ]
    },
    {
      "cell_type": "code",
      "source": [
        "x = a % y\n",
        "print(x)"
      ],
      "metadata": {
        "colab": {
          "base_uri": "https://localhost:8080/"
        },
        "id": "BjAocbfApVyH",
        "outputId": "fd9dc53f-eb53-4514-c741-68335bcbbc3d"
      },
      "execution_count": 5,
      "outputs": [
        {
          "output_type": "stream",
          "name": "stdout",
          "text": [
            "0\n"
          ]
        }
      ]
    },
    {
      "cell_type": "code",
      "source": [
        "x = a ** y\n",
        "print(x)"
      ],
      "metadata": {
        "colab": {
          "base_uri": "https://localhost:8080/"
        },
        "id": "lrD_rBzfpaGK",
        "outputId": "0d70753f-1b39-4add-92b1-36fdb7c1c7c3"
      },
      "execution_count": 6,
      "outputs": [
        {
          "output_type": "stream",
          "name": "stdout",
          "text": [
            "16\n"
          ]
        }
      ]
    },
    {
      "cell_type": "code",
      "source": [
        "x = a // y\n",
        "print(x)"
      ],
      "metadata": {
        "colab": {
          "base_uri": "https://localhost:8080/"
        },
        "id": "nnQtlziGpbW3",
        "outputId": "a12592bd-9af0-4a76-b185-f75d9aab2961"
      },
      "execution_count": 7,
      "outputs": [
        {
          "output_type": "stream",
          "name": "stdout",
          "text": [
            "2\n"
          ]
        }
      ]
    },
    {
      "cell_type": "markdown",
      "source": [
        "### RELATIONAL OPERATORS"
      ],
      "metadata": {
        "id": "69UKApknpmfq"
      }
    },
    {
      "cell_type": "code",
      "source": [
        "a = 4\n",
        "y = 2\n",
        "x = a > y\n",
        "print(x)"
      ],
      "metadata": {
        "colab": {
          "base_uri": "https://localhost:8080/"
        },
        "id": "V7SAkd3UpctB",
        "outputId": "886ea5d6-d90e-425e-ab45-6d4b31b7feea"
      },
      "execution_count": 10,
      "outputs": [
        {
          "output_type": "stream",
          "name": "stdout",
          "text": [
            "True\n"
          ]
        }
      ]
    },
    {
      "cell_type": "code",
      "source": [
        "x = a < y\n",
        "print(x)"
      ],
      "metadata": {
        "colab": {
          "base_uri": "https://localhost:8080/"
        },
        "id": "kf-lXSY2tJqi",
        "outputId": "ae367830-0e21-4e1a-fb98-17bf584288ae"
      },
      "execution_count": 11,
      "outputs": [
        {
          "output_type": "stream",
          "name": "stdout",
          "text": [
            "False\n"
          ]
        }
      ]
    },
    {
      "cell_type": "code",
      "source": [
        "x == y"
      ],
      "metadata": {
        "colab": {
          "base_uri": "https://localhost:8080/"
        },
        "id": "NJs8A6sGtMNa",
        "outputId": "df335aa8-4b88-485a-d6c3-8fea6584c82b"
      },
      "execution_count": 12,
      "outputs": [
        {
          "output_type": "execute_result",
          "data": {
            "text/plain": [
              "False"
            ]
          },
          "metadata": {},
          "execution_count": 12
        }
      ]
    },
    {
      "cell_type": "code",
      "source": [
        "x = a >= y\n",
        "print(x)"
      ],
      "metadata": {
        "colab": {
          "base_uri": "https://localhost:8080/"
        },
        "id": "eXa6YaP7tOUC",
        "outputId": "c1d02592-4924-40e8-bc05-b961a68ba10b"
      },
      "execution_count": 13,
      "outputs": [
        {
          "output_type": "stream",
          "name": "stdout",
          "text": [
            "True\n"
          ]
        }
      ]
    },
    {
      "cell_type": "markdown",
      "source": [
        "### ATM BANK MACHINE"
      ],
      "metadata": {
        "id": "xdpTkrpituF5"
      }
    },
    {
      "cell_type": "code",
      "source": [
        "balance = 1000\n",
        "withdraw = 200\n",
        "balaance = balaance - withdraw\n",
        "print(balaance)"
      ],
      "metadata": {
        "colab": {
          "base_uri": "https://localhost:8080/"
        },
        "id": "yiitFeUntRjO",
        "outputId": "037c246f-fa74-419b-e094-48c8b98c96e7"
      },
      "execution_count": 19,
      "outputs": [
        {
          "output_type": "stream",
          "name": "stdout",
          "text": [
            "600\n"
          ]
        }
      ]
    },
    {
      "cell_type": "code",
      "source": [
        "(withdraw % 500) == 0\n"
      ],
      "metadata": {
        "colab": {
          "base_uri": "https://localhost:8080/"
        },
        "id": "zqN2Iu0ttbb5",
        "outputId": "1e95aa3c-e985-4e2c-ee9d-914b700ddd7d"
      },
      "execution_count": 20,
      "outputs": [
        {
          "output_type": "execute_result",
          "data": {
            "text/plain": [
              "False"
            ]
          },
          "metadata": {},
          "execution_count": 20
        }
      ]
    },
    {
      "cell_type": "markdown",
      "source": [
        "### LOGICAL OPERATORS"
      ],
      "metadata": {
        "id": "vKEys8KAuaYt"
      }
    },
    {
      "cell_type": "code",
      "source": [
        "(withdraw < balance) and (withdraw % 500 == 0)"
      ],
      "metadata": {
        "colab": {
          "base_uri": "https://localhost:8080/"
        },
        "id": "qsQN4sj8uO8A",
        "outputId": "652662c2-ebda-4674-918c-399a7a4af768"
      },
      "execution_count": 22,
      "outputs": [
        {
          "output_type": "execute_result",
          "data": {
            "text/plain": [
              "False"
            ]
          },
          "metadata": {},
          "execution_count": 22
        }
      ]
    },
    {
      "cell_type": "code",
      "source": [
        "(withdraw < balance) or (withdraw % 500 == 0)"
      ],
      "metadata": {
        "colab": {
          "base_uri": "https://localhost:8080/"
        },
        "id": "m70fXRM5vJbq",
        "outputId": "b3a4bdda-3074-4c73-e962-9cf85877b80d"
      },
      "execution_count": 23,
      "outputs": [
        {
          "output_type": "execute_result",
          "data": {
            "text/plain": [
              "True"
            ]
          },
          "metadata": {},
          "execution_count": 23
        }
      ]
    },
    {
      "cell_type": "code",
      "source": [
        "not (withdraw < balance) and (withdraw % 500 == 0)"
      ],
      "metadata": {
        "colab": {
          "base_uri": "https://localhost:8080/"
        },
        "id": "_fLL8paWvTON",
        "outputId": "823058a4-dc73-425d-fd4b-1a3d5a93031b"
      },
      "execution_count": 24,
      "outputs": [
        {
          "output_type": "execute_result",
          "data": {
            "text/plain": [
              "False"
            ]
          },
          "metadata": {},
          "execution_count": 24
        }
      ]
    },
    {
      "cell_type": "markdown",
      "source": [
        "### ASSIGNMENT OPERATOR"
      ],
      "metadata": {
        "id": "3wT_huqSvsOh"
      }
    },
    {
      "cell_type": "code",
      "source": [
        "balance = 1000\n",
        "balance += 200\n",
        "print(balance)"
      ],
      "metadata": {
        "colab": {
          "base_uri": "https://localhost:8080/"
        },
        "id": "pLm-gHhXvudw",
        "outputId": "bff3f543-b338-4351-fb2a-3112242a0066"
      },
      "execution_count": 25,
      "outputs": [
        {
          "output_type": "stream",
          "name": "stdout",
          "text": [
            "1200\n"
          ]
        }
      ]
    },
    {
      "cell_type": "markdown",
      "source": [
        "### MEMBERSHIP OPERATORS"
      ],
      "metadata": {
        "id": "ETLPWPk4wDHo"
      }
    },
    {
      "cell_type": "code",
      "source": [
        "students = ['ram','shyam','hari','gita']\n",
        "'ram' in students"
      ],
      "metadata": {
        "colab": {
          "base_uri": "https://localhost:8080/"
        },
        "id": "VFhmNpYSvxJW",
        "outputId": "12234ac0-79d1-4178-f1ff-6cf767a8e914"
      },
      "execution_count": 26,
      "outputs": [
        {
          "output_type": "execute_result",
          "data": {
            "text/plain": [
              "True"
            ]
          },
          "metadata": {},
          "execution_count": 26
        }
      ]
    },
    {
      "cell_type": "markdown",
      "source": [
        "### IDENTITY OPERATORS"
      ],
      "metadata": {
        "id": "otw856ILxS6E"
      }
    },
    {
      "cell_type": "code",
      "source": [
        "type (students) is list"
      ],
      "metadata": {
        "colab": {
          "base_uri": "https://localhost:8080/"
        },
        "id": "wROM8NDowOxD",
        "outputId": "720437d8-2f15-4038-eb19-c445f9dfc662"
      },
      "execution_count": 27,
      "outputs": [
        {
          "output_type": "execute_result",
          "data": {
            "text/plain": [
              "True"
            ]
          },
          "metadata": {},
          "execution_count": 27
        }
      ]
    },
    {
      "cell_type": "markdown",
      "source": [
        "### FUNCTIONS"
      ],
      "metadata": {
        "id": "t8PFm4wWzpgU"
      }
    },
    {
      "cell_type": "code",
      "source": [
        "# block of resusable code\n",
        "def ftn(name):\n",
        "    return name\n",
        "ftn('Soban Ali Awan')"
      ],
      "metadata": {
        "colab": {
          "base_uri": "https://localhost:8080/",
          "height": 36
        },
        "id": "jyrGj97XxhtI",
        "outputId": "68c4c06b-2ada-4f82-fbd2-c6856fb9f009"
      },
      "execution_count": 29,
      "outputs": [
        {
          "output_type": "execute_result",
          "data": {
            "text/plain": [
              "'Soban Ali Awan'"
            ],
            "application/vnd.google.colaboratory.intrinsic+json": {
              "type": "string"
            }
          },
          "metadata": {},
          "execution_count": 29
        }
      ]
    },
    {
      "cell_type": "code",
      "source": [
        "# calculator\n",
        "\n",
        "def add(a,b):\n",
        "  return a + b\n",
        "\n",
        "def sub(a,b):\n",
        "  return a - b\n",
        "\n",
        "def mul(a,b):\n",
        "  return a * b\n",
        "\n",
        "def div(a,b):\n",
        "  return a / b\n",
        "\n",
        "def calculate():\n",
        "  num1 = float(input('Enter first number: '))\n",
        "  num2 = float(input('Enter second number: '))\n",
        "\n",
        "  addition = add(num1,num2)\n",
        "  subtraction = sub(num1,num2)\n",
        "  multiplication = mul(num1,num2)\n",
        "  division = div(num1,num2)\n",
        "\n",
        "  print(f'Addition: {addition}')\n",
        "  print(f'Subtraction: {subtraction}')\n",
        "  print(f'Multiplication: {multiplication}')\n",
        "  print(f'Division: {division}')\n",
        "\n",
        "calculate()"
      ],
      "metadata": {
        "colab": {
          "base_uri": "https://localhost:8080/"
        },
        "id": "37sycTYz0ETy",
        "outputId": "aa0acd4c-0918-4130-a494-b6b0a42264e1"
      },
      "execution_count": 32,
      "outputs": [
        {
          "output_type": "stream",
          "name": "stdout",
          "text": [
            "Enter first number: 2\n",
            "Enter second number: 2\n",
            "Addition: 4.0\n",
            "Subtraction: 0.0\n",
            "Multiplication: 4.0\n",
            "Division: 1.0\n",
            "None\n"
          ]
        }
      ]
    }
  ]
}