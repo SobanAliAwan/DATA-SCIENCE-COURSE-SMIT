{
  "nbformat": 4,
  "nbformat_minor": 0,
  "metadata": {
    "colab": {
      "provenance": [],
      "authorship_tag": "ABX9TyPz4GPrnatObQDeZKbA21ii",
      "include_colab_link": true
    },
    "kernelspec": {
      "name": "python3",
      "display_name": "Python 3"
    },
    "language_info": {
      "name": "python"
    }
  },
  "cells": [
    {
      "cell_type": "markdown",
      "metadata": {
        "id": "view-in-github",
        "colab_type": "text"
      },
      "source": [
        "<a href=\"https://colab.research.google.com/github/SobanAliAwan/DATA-SCIENCE-COURSE-SMIT/blob/main/CLASS_1(Pseudocode%2C_Algorithm%2C_Flowchart).ipynb\" target=\"_parent\"><img src=\"https://colab.research.google.com/assets/colab-badge.svg\" alt=\"Open In Colab\"/></a>"
      ]
    },
    {
      "cell_type": "markdown",
      "source": [
        "# 1.ALGORITHM\n",
        "* STEP BY STEP PROCESS TO SOLVE A PROBLEM\n",
        "* FOLLOW A LOGICAL STRUCUTRE\n",
        "* PERFORMS SERIES OF OPERATIONS ON INPUT DATA AND GIVES A DESIRED OUTPUT\n",
        "\n",
        "# 2.PSEUDOCODE\n",
        "* LIST OF STEPS WRITEEN IN ENGLISH\n",
        "* BASICALLY AN ALGORITHM IN ENGLISH LANGUAGE\n",
        "* REPRESENTATION OF AN ALGORTHM\n",
        "\n",
        "# EXAMPLE:\n",
        "\n",
        "# algorithm:\n",
        "* SUM OF TWO NUMBERS\n",
        "* a =  num1\n",
        "* b = num2\n",
        "* num3 = a + b\n",
        "* print(num3)\n",
        "\n",
        "# pseudocode:\n",
        "* get first number from the user\n",
        "* get secnd number from the user\n",
        "* add the two numbers\n",
        "* print result on console\n",
        "\n",
        "\n",
        "\n",
        "\n",
        "\n",
        "\n"
      ],
      "metadata": {
        "id": "Bd5pPVOzoi_g"
      }
    },
    {
      "cell_type": "markdown",
      "source": [
        "# FLOW CHARTS:\n",
        "SUMBOLIC REPRESENTATION OF AN ALGORITHM\n",
        "\n",
        "# COMPONENTS OF FLOW CHART:\n",
        "* START/END -> CYLINDER SHAPE\n",
        "* INPUT/OUTPUT -> PARALLELOGRAM\n",
        "* PROCESS -> RECTANGLE\n",
        "* CONDITION -> DIAMOND\n",
        "\n"
      ],
      "metadata": {
        "id": "ZbHn0P_XqdUk"
      }
    },
    {
      "cell_type": "markdown",
      "source": [
        "# Class Task 1:\n",
        "* write algorithm and psuedocode for area of triangle\n",
        "\n",
        "# Pseudocode:\n",
        "* 1. Take base as integer from user and Store in B\n",
        "* 2. Take height as integer from user and store in H\n",
        "* 3. Apply multiplication operation on B and H and sotore in C\n",
        "* 4. Divide c by 2 and store it in AREA\n",
        "* 5. print AREA on Console\n",
        "\n",
        "# Algorithm:\n",
        "* B = Input base\n",
        "* H = Input height\n",
        "* C = B x H\n",
        "* AREA = C/2\n",
        "* print(AREA)\n",
        "\n",
        "\n"
      ],
      "metadata": {
        "id": "K2S78UvUvN2A"
      }
    },
    {
      "cell_type": "markdown",
      "source": [
        "# Class Task 2:\n",
        "* write pseudocode and Algorithm and create flowchart for a programme that calculate average of three grades and if the average is greater then 80 print good other wise terminate the programme\n",
        "\n",
        "# Pseudocode:\n",
        "* 1.Take subject 1 marks from user and sotre it in A\n",
        "* 2.Take subject 2 marks from user and store it in B\n",
        "* 3.Take subject 3 marks from user and store it in C\n",
        "* 4.Add three subjects marks and divide it on 3 and store it in AVERAGE\n",
        "* 5.Apply condition if average is greater than 80 then print good on console    other wise terminate the programme\n",
        "\n",
        "# Algorithm:\n",
        "* A = subject 1 marks\n",
        "* B = subject 2 marks\n",
        "* C = subject 3 marks\n",
        "* AVERAGE = A + B + C / 3\n",
        "* if AVERAGE > 80 : print(good)\n",
        "* else: print(programme end)\n"
      ],
      "metadata": {
        "id": "mJCLAioBz1AY"
      }
    },
    {
      "cell_type": "code",
      "execution_count": null,
      "metadata": {
        "id": "Mi_goa8cmIHt"
      },
      "outputs": [],
      "source": []
    }
  ]
}